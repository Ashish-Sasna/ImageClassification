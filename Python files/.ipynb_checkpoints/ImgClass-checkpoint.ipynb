{
 "cells": [
  {
   "cell_type": "markdown",
   "id": "5983c639",
   "metadata": {},
   "source": [
    "# Import Libraries "
   ]
  },
  {
   "cell_type": "code",
   "execution_count": 1,
   "id": "d1d7d140",
   "metadata": {},
   "outputs": [],
   "source": [
    "import os\n",
    "import numpy as np\n",
    "from matplotlib import pyplot as plt\n",
    "%matplotlib inline\n",
    "\n",
    "import pickle as pkl\n",
    "import tensorflow as tf\n",
    "import keras\n",
    "\n",
    "import warnings\n",
    "warnings.filterwarnings('ignore')"
   ]
  },
  {
   "cell_type": "markdown",
   "id": "fc1f34af",
   "metadata": {},
   "source": [
    "## Functions"
   ]
  },
  {
   "cell_type": "code",
   "execution_count": 2,
   "id": "9fa20379",
   "metadata": {},
   "outputs": [],
   "source": [
    "## Load data using pickle\n",
    "def unloadPickle(file):\n",
    "    with open(file, 'rb') as f:\n",
    "        temp =  pkl.load(f, encoding='latin1')\n",
    "    return temp\n",
    "\n",
    "## Extract train and test data and reshape images to (32, 32, 3)\n",
    "def extractData(dataPath, dataStr):\n",
    "    \n",
    "    if dataStr == '\\data_batch_':\n",
    "        X_train = []\n",
    "        y_train = []\n",
    "\n",
    "        for i in range(1, 6):\n",
    "            filePath = dataPath + dataStr + str(i)\n",
    "            file = unloadPickle(filePath)\n",
    "            file['data'] = file['data'].reshape((len(file['data']), 3, 32, 32)).transpose(0, 2, 3, 1)\n",
    "            X_train.append(file['data'])\n",
    "            y_train.append(file['labels'])\n",
    "            \n",
    "        metaFile = unloadPickle(os.path.join(dataPath,'batches.meta'))\n",
    "        labelNames = metaFile['label_names']\n",
    "        \n",
    "        return X_train, y_train, labelNames\n",
    "    \n",
    "    elif dataStr == '\\test_batch':    \n",
    "        X_test = []\n",
    "        y_test = []\n",
    "        \n",
    "        filePath = dataPath + dataStr\n",
    "        file = unloadPickle(filePath)\n",
    "        file['data'] = file['data'].reshape((len(file['data']), 3, 32, 32)).transpose(0, 2, 3, 1)\n",
    "        X_test.append(file['data'])\n",
    "        y_test.append(file['labels'])\n",
    "    \n",
    "        return X_test, y_test\n",
    "\n",
    "## Display the statistics of the data and display the image based on the batch and sample image    \n",
    "def displayStats(dataPath, dataStr, batch_id, sample_id):\n",
    "    \n",
    "    X, y, labelNames = extractData(dataPath, dataStr)\n",
    "    \n",
    "    features = []\n",
    "    labels = []\n",
    "    \n",
    "    print('No. of batches : {}'.format(len(X)))\n",
    "    print('No. of samples in each batch : {}'.format(len(X[batch_id])))\n",
    "    print('Shape of each sample : {}'.format(X[batch_id - 1][sample_id].shape))\n",
    "    print('\\nStats of batch {}'.format(batch_id))\n",
    "    print('\\nCount of each label in batch {} : '.format(batch_id))\n",
    "    \n",
    "    label_counts = dict(zip(*np.unique(y[batch_id - 1], return_counts=True)))\n",
    "    \n",
    "    for key, value in label_counts.items():\n",
    "        print('No. of {} images : {}'.format((labelNames[key]).upper(), value))\n",
    "    \n",
    "    sample_label = y[batch_id - 1][sample_id]\n",
    "    print('\\nSample Id : {}, Image name : {}'.format(sample_id, (labelNames[sample_label]).upper()))\n",
    "    sample_image = X[batch_id - 1][sample_id]\n",
    "    plt.imshow(sample_image)\n",
    "\n",
    "## One hot encode the labels\n",
    "def oneHotEncode(labels):\n",
    "    \n",
    "    x = np.zeros((len(labels), 10))\n",
    "    for i, j in enumerate(labels):\n",
    "        x[i][j] = 1\n",
    "    \n",
    "    return x\n",
    "\n",
    "## Normalize the image\n",
    "def normImage(image):\n",
    "    \n",
    "    img_min = np.min(image)\n",
    "    img_max = np.max(image)\n",
    "    image = (image - img_min) / (img_max - img_min)\n",
    "    \n",
    "    return image\n",
    "\n",
    "## Perform the pre-processing steps\n",
    "def preprocessData(X_train, y_train):\n",
    "               \n",
    "    for i in range(0, 5):\n",
    "        for j, img in enumerate(X_train[i]):\n",
    "            X_train[i][j] = normImage(img)\n",
    "        \n",
    "        y_train[i] = oneHotEncode(y_train[i])\n",
    "            \n",
    "    return X_train, y_train"
   ]
  },
  {
   "cell_type": "markdown",
   "id": "83468bc7",
   "metadata": {},
   "source": [
    "# Load Dataset "
   ]
  },
  {
   "cell_type": "code",
   "execution_count": 3,
   "id": "c58ef0cd",
   "metadata": {},
   "outputs": [
    {
     "name": "stdout",
     "output_type": "stream",
     "text": [
      "D:\\Competetions\\Kaggle\\Image processing\\archive\\cifar-10-batches-py\n"
     ]
    }
   ],
   "source": [
    "os.chdir(\"../..\")\n",
    "dataPath = os.path.join(os.getcwd(), 'Image processing\\\\archive\\cifar-10-batches-py')\n",
    "print(dataPath)"
   ]
  },
  {
   "cell_type": "code",
   "execution_count": 4,
   "id": "363edfa0",
   "metadata": {},
   "outputs": [
    {
     "name": "stdout",
     "output_type": "stream",
     "text": [
      "No. of batches : 5\n",
      "No. of samples in each batch : 10000\n",
      "Shape of each sample : (32, 32, 3)\n",
      "\n",
      "Stats of batch 1\n",
      "\n",
      "Count of each label in batch 1 : \n",
      "No. of AIRPLANE images : 1005\n",
      "No. of AUTOMOBILE images : 974\n",
      "No. of BIRD images : 1032\n",
      "No. of CAT images : 1016\n",
      "No. of DEER images : 999\n",
      "No. of DOG images : 937\n",
      "No. of FROG images : 1030\n",
      "No. of HORSE images : 1001\n",
      "No. of SHIP images : 1025\n",
      "No. of TRUCK images : 981\n",
      "\n",
      "Sample Id : 3781, Image name : AUTOMOBILE\n"
     ]
    },
    {
     "data": {
      "image/png": "[encoded data removed]",
      "text/plain": [
       "<Figure size 432x288 with 1 Axes>"
      ]
     },
     "metadata": {
      "needs_background": "light"
     },
     "output_type": "display_data"
    }
   ],
   "source": [
    "trainStr = '\\data_batch_'\n",
    "testStr = '\\test_batch'\n",
    "\n",
    "displayStats(dataPath, trainStr, 1, 3781)"
   ]
  },
  {
   "cell_type": "code",
   "execution_count": 5,
   "id": "489aa745",
   "metadata": {},
   "outputs": [],
   "source": [
    "X_train, y_train, labelNames = extractData(dataPath, trainStr)"
   ]
  },
  {
   "cell_type": "markdown",
   "id": "0c36e453",
   "metadata": {},
   "source": [
    "# Pre-processing"
   ]
  },
  {
   "cell_type": "code",
   "execution_count": 6,
   "id": "810ec85c",
   "metadata": {},
   "outputs": [],
   "source": [
    "features, labels = preprocessData(X_train, y_train)\n",
    "\n"
   ]
  },
  {
   "cell_type": "code",
   "execution_count": null,
   "id": "342f7bcc",
   "metadata": {},
   "outputs": [],
   "source": []
  }
 ],
 "metadata": {
  "kernelspec": {
   "display_name": "Python 3 (ipykernel)",
   "language": "python",
   "name": "python3"
  },
  "language_info": {
   "codemirror_mode": {
    "name": "ipython",
    "version": 3
   },
   "file_extension": ".py",
   "mimetype": "text/x-python",
   "name": "python",
   "nbconvert_exporter": "python",
   "pygments_lexer": "ipython3",
   "version": "3.9.12"
  }
 },
 "nbformat": 4,
 "nbformat_minor": 5
}
