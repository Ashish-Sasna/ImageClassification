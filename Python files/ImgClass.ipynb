{
 "cells": [
  {
   "cell_type": "markdown",
   "id": "5983c639",
   "metadata": {},
   "source": [
    "# Import Libraries "
   ]
  },
  {
   "cell_type": "code",
   "execution_count": 1,
   "id": "d1d7d140",
   "metadata": {},
   "outputs": [],
   "source": [
    "import os\n",
    "import numpy as np\n",
    "from numpy import save, asarray\n",
    "from matplotlib import pyplot as plt\n",
    "%matplotlib inline\n",
    "\n",
    "import pickle as pkl\n",
    "import tensorflow as tf\n",
    "\n",
    "from keras.datasets import cifar10\n",
    "from tensorflow import keras\n",
    "from keras.utils import np_utils\n",
    "from tensorflow.keras import Sequential\n",
    "from tensorflow.keras.layers import Conv2D, MaxPool2D, BatchNormalization, Flatten, Dense, InputLayer, Dropout\n",
    "from tensorflow.keras.optimizers import Adam, SGD\n",
    "from tensorflow.keras.preprocessing.image import ImageDataGenerator\n",
    "\n",
    "from sklearn.model_selection import train_test_split\n",
    "\n",
    "import warnings\n",
    "warnings.filterwarnings('ignore')"
   ]
  },
  {
   "cell_type": "markdown",
   "id": "fc1f34af",
   "metadata": {},
   "source": [
    "## Functions"
   ]
  },
  {
   "cell_type": "code",
   "execution_count": 2,
   "id": "9fa20379",
   "metadata": {},
   "outputs": [],
   "source": [
    "## Load data using pickle\n",
    "def unloadPickle(file):\n",
    "    with open(file, 'rb') as f:\n",
    "        temp =  pkl.load(f, encoding='latin1')\n",
    "    return temp\n",
    "\n",
    "## Extract train and test data and reshape images to (32, 32, 3)\n",
    "def extractData(dataPath, dataStr):\n",
    "    \n",
    "    if dataStr == '\\data_batch_':\n",
    "        X_train = []\n",
    "        y_train = []\n",
    "\n",
    "        for i in range(1, 6):\n",
    "            filePath = dataPath + dataStr + str(i)\n",
    "            file = unloadPickle(filePath)\n",
    "            file['data'] = file['data'].reshape((len(file['data']), 3, 32, 32)).transpose(0, 2, 3, 1)\n",
    "            X_train.append(file['data'])\n",
    "            y_train.append(file['labels'])\n",
    "            \n",
    "        metaFile = unloadPickle(os.path.join(dataPath,'batches.meta'))\n",
    "        labelNames = metaFile['label_names']\n",
    "        \n",
    "        return X_train, y_train, labelNames\n",
    "    \n",
    "    elif dataStr == 'test_batch':    \n",
    "        \n",
    "        filePath = os.path.join(dataPath, dataStr)\n",
    "        file = unloadPickle(filePath)\n",
    "        file['data'] = file['data'].reshape((len(file['data']), 3, 32, 32)).transpose(0, 2, 3, 1)\n",
    "        X_test = file['data']\n",
    "        y_test = file['labels']\n",
    "    \n",
    "        return X_test, y_test\n",
    "\n",
    "## Display the statistics of the data and display the image based on the batch and sample image    \n",
    "def displayStats(dataPath, dataStr, batch_id, sample_id):\n",
    "    \n",
    "    X, y, labelNames = extractData(dataPath, dataStr)\n",
    "    \n",
    "    features = []\n",
    "    labels = []\n",
    "    \n",
    "    print('No. of batches : {}'.format(len(X)))\n",
    "    print('No. of samples in each batch : {}'.format(len(X[batch_id])))\n",
    "    print('Shape of each sample : {}'.format(X[batch_id - 1][sample_id].shape))\n",
    "    print('\\nStats of batch {}'.format(batch_id))\n",
    "    print('\\nCount of each label in batch {} : '.format(batch_id))\n",
    "    \n",
    "    label_counts = dict(zip(*np.unique(y[batch_id - 1], return_counts=True)))\n",
    "    \n",
    "    for key, value in label_counts.items():\n",
    "        print('No. of {} images : {}'.format((labelNames[key]).upper(), value))\n",
    "    \n",
    "    sample_label = y[batch_id - 1][sample_id]\n",
    "    print('\\nSample Id : {}, Image name : {}'.format(sample_id, (labelNames[sample_label]).upper()))\n",
    "    sample_image = X[batch_id - 1][sample_id]\n",
    "    plt.imshow(sample_image)\n",
    "\n",
    "## One hot encode the labels\n",
    "def oneHotEncode(labels):\n",
    "    \n",
    "    x = np.zeros((len(labels), 10))\n",
    "    for i, j in enumerate(labels):\n",
    "        x[i][j] = 1\n",
    "    \n",
    "    return x\n",
    "\n",
    "## Cannot use this function as it is returning binary values instead of values between 0 to 1\n",
    "## Normalize the image\n",
    "# def normImage(image):\n",
    "    \n",
    "#     image = image.astype('float32')   \n",
    "#     image /= 255\n",
    "    \n",
    "#     return image\n",
    "\n",
    "## Perform the pre-processing steps\n",
    "# def preprocessData(X, y):\n",
    "               \n",
    "#     for j, img in enumerate(X):\n",
    "#         img = img.astype('float32')\n",
    "#         img /= 255\n",
    "#         X[j] = img\n",
    "#         #X[j] = tf.random_crop()\n",
    "        \n",
    "#     y = oneHotEncode(y)\n",
    "            \n",
    "#     return X, y\n",
    "\n",
    "## Dump the train or test data in pickle files\n",
    "def saveData(batch_features, batch_labels, filename):\n",
    "    \n",
    "    pkl.dump((batch_features, batch_labels), open(filename, 'wb'))\n",
    "    \n",
    "def schedulerLr(epoch, lr):\n",
    "    if epoch < lr:\n",
    "        return lr\n",
    "    else:\n",
    "        return lr * tf.math.exp(-0.1)"
   ]
  },
  {
   "cell_type": "markdown",
   "id": "83468bc7",
   "metadata": {},
   "source": [
    "# Load Dataset "
   ]
  },
  {
   "cell_type": "code",
   "execution_count": 3,
   "id": "c58ef0cd",
   "metadata": {},
   "outputs": [
    {
     "name": "stdout",
     "output_type": "stream",
     "text": [
      "D:\\Competetions\\Kaggle\\ImageClassification\\archive\\cifar-10-batches-py\n"
     ]
    }
   ],
   "source": [
    "os.chdir(\"../..\")\n",
    "dataPath = os.path.join(os.getcwd(), 'ImageClassification\\\\archive\\cifar-10-batches-py')\n",
    "print(dataPath)"
   ]
  },
  {
   "cell_type": "code",
   "execution_count": 4,
   "id": "363edfa0",
   "metadata": {},
   "outputs": [
    {
     "name": "stdout",
     "output_type": "stream",
     "text": [
      "No. of batches : 5\n",
      "No. of samples in each batch : 10000\n",
      "Shape of each sample : (32, 32, 3)\n",
      "\n",
      "Stats of batch 1\n",
      "\n",
      "Count of each label in batch 1 : \n",
      "No. of AIRPLANE images : 1005\n",
      "No. of AUTOMOBILE images : 974\n",
      "No. of BIRD images : 1032\n",
      "No. of CAT images : 1016\n",
      "No. of DEER images : 999\n",
      "No. of DOG images : 937\n",
      "No. of FROG images : 1030\n",
      "No. of HORSE images : 1001\n",
      "No. of SHIP images : 1025\n",
      "No. of TRUCK images : 981\n",
      "\n",
      "Sample Id : 123, Image name : BIRD\n"
     ]
    },
    {
     "data": {
      "image/png": "[encoded data removed]",
      "text/plain": [
       "<Figure size 432x288 with 1 Axes>"
      ]
     },
     "metadata": {
      "needs_background": "light"
     },
     "output_type": "display_data"
    }
   ],
   "source": [
    "trainStr = '\\data_batch_'\n",
    "testStr = 'test_batch'\n",
    "\n",
    "displayStats(dataPath, trainStr, 1, 123)"
   ]
  },
  {
   "cell_type": "code",
   "execution_count": 15,
   "id": "489aa745",
   "metadata": {},
   "outputs": [],
   "source": [
    "feat, lbl, labelNames = extractData(dataPath, trainStr)"
   ]
  },
  {
   "cell_type": "markdown",
   "id": "0c36e453",
   "metadata": {},
   "source": [
    "# Pre-processing"
   ]
  },
  {
   "cell_type": "code",
   "execution_count": 16,
   "id": "810ec85c",
   "metadata": {},
   "outputs": [],
   "source": [
    "batch_ids = [1, 2, 3, 4, 5]\n",
    "train_feat, train_lbl = [], []\n",
    "for b_id in batch_ids:\n",
    "    temp_batch = []\n",
    "    for idx, img in enumerate(feat[i-1]):\n",
    "        temp_batch.append(feat[b_id-1][idx] / 255.0)\n",
    "    train_feat.append(asarray(temp_batch)) \n",
    "    train_lbl.append(oneHotEncode(lbl[b_id-1]))\n",
    "    \n",
    "    saveData(train_feat[b_id-1], train_lbl[b_id-1], os.path.join(dataPath, 'prcsd_batch_' + str(b_id) + '.pkl'))"
   ]
  },
  {
   "cell_type": "code",
   "execution_count": 7,
   "id": "80a85da9",
   "metadata": {},
   "outputs": [],
   "source": [
    "X, y = extractData(dataPath, testStr)\n",
    "X_test, y_test = [], []\n",
    "for idx, img in enumerate(X):\n",
    "    X[idx] = X[idx].astype('float32')\n",
    "    X_test.append(X[idx] / 255.0)\n",
    "\n",
    "X_test = asarray(X_test)    \n",
    "y_test = oneHotEncode(y)\n",
    "saveData(X_test, y_test, os.path.join(dataPath, 'prcsd_test_batch.pkl'))"
   ]
  },
  {
   "cell_type": "markdown",
   "id": "5a339865",
   "metadata": {},
   "source": [
    "# Model Generation"
   ]
  },
  {
   "cell_type": "code",
   "execution_count": 14,
   "id": "5f709c42",
   "metadata": {},
   "outputs": [],
   "source": [
    "train_features = []\n",
    "train_labels = []\n",
    "batch_ids = [1, 2, 3, 4, 5]\n",
    "for b_id in batch_ids:\n",
    "    path = os.path.join(dataPath, 'prcsd_batch_' + str(b_id) + '.pkl')\n",
    "    temp_batch = unloadPickle(path)\n",
    "    train_features.append(temp_batch[0]) \n",
    "    train_labels.append(temp_batch[1])"
   ]
  },
  {
   "cell_type": "code",
   "execution_count": 15,
   "id": "057e6c35",
   "metadata": {},
   "outputs": [],
   "source": [
    "X_train_features, y_train_labels = np.concatenate(train_features, axis = 0), np.concatenate(train_labels, axis = 0)"
   ]
  },
  {
   "cell_type": "code",
   "execution_count": null,
   "id": "6a5751b9",
   "metadata": {},
   "outputs": [],
   "source": [
    "# test_path = os.path.join(dataPath, 'test_batch.pkl')\n",
    "# X_test, y_test = unloadPickle(test_path)"
   ]
  },
  {
   "cell_type": "code",
   "execution_count": 19,
   "id": "e773a345",
   "metadata": {},
   "outputs": [],
   "source": [
    "X_train, X_train_val, y_train, y_train_val = train_test_split(X_train_features, \n",
    "                                                                  y_train_labels, \n",
    "                                                                  test_size=0.2, \n",
    "                                                                  random_state=42)"
   ]
  },
  {
   "cell_type": "code",
   "execution_count": 20,
   "id": "65be4f88",
   "metadata": {},
   "outputs": [],
   "source": [
    "def cnnModel(feature_shape, labels, learning_rate):\n",
    "    \n",
    "    model = Sequential()\n",
    "\n",
    "    model.add(Conv2D(32, kernel_size=(4, 4), input_shape=feature_shape, activation='relu'))\n",
    "    model.add(MaxPool2D(2, 2))\n",
    "    \n",
    "    model.add(Flatten())\n",
    "    model.add(Dense(64, activation='relu'))\n",
    "    model.add(Dense(labels, activation='softmax'))\n",
    "    \n",
    "    opt = Adam(learning_rate)\n",
    "    model.compile(optimizer=opt, loss='categorical_crossentropy', metrics=['accuracy'])\n",
    "    \n",
    "    return model\n",
    "\n",
    "def metrics_graph(model, num_epoch):\n",
    "    \n",
    "    r_ep = range(num_epoch)\n",
    "    train_loss = model.history['loss']\n",
    "    validation_loss = model.history['val_loss']\n",
    "    train_acuracy = model.history['accuracy']\n",
    "    validation_accuracy = model.history['val_accuracy']\n",
    "\n",
    "    plt.figure(figsize=(15,7))\n",
    "    \n",
    "    plt.subplot(1, 2, 1)\n",
    "    plt.title('Train vs Validation')\n",
    "    plt.plot(r_ep, train_loss)\n",
    "    plt.plot(r_ep, validation_loss)\n",
    "    plt.legend(['train_loss', 'val_loss'])\n",
    "    plt.xlabel('No. of epochs')\n",
    "    plt.ylabel('Loss')\n",
    "    \n",
    "    plt.subplot(1, 2, 2)\n",
    "    plt.title('Train Accuracy vs Validation Accuracy')\n",
    "    plt.plot(r_ep, train_acuracy)\n",
    "    plt.plot(r_ep, validation_accuracy)\n",
    "    plt.legend(['train_acc', 'val_acc'])\n",
    "    plt.xlabel('No. of epochs')\n",
    "    plt.ylabel('Accuracy')"
   ]
  },
  {
   "cell_type": "code",
   "execution_count": 21,
   "id": "c381ba98",
   "metadata": {},
   "outputs": [],
   "source": [
    "callback = tf.keras.callbacks.LearningRateScheduler(schedulerLr)"
   ]
  },
  {
   "cell_type": "code",
   "execution_count": 22,
   "id": "be75f87b",
   "metadata": {},
   "outputs": [
    {
     "name": "stdout",
     "output_type": "stream",
     "text": [
      "Epoch 1/30\n",
      "1563/1563 [==============================] - 65s 41ms/step - loss: 1.4887 - accuracy: 0.4681 - val_loss: 1.2135 - val_accuracy: 0.5772 - lr: 0.0010\n",
      "Epoch 2/30\n",
      "1563/1563 [==============================] - 52s 33ms/step - loss: 1.1657 - accuracy: 0.5898 - val_loss: 1.0171 - val_accuracy: 0.6480 - lr: 9.0484e-04\n",
      "Epoch 3/30\n",
      "1563/1563 [==============================] - 37s 24ms/step - loss: 1.0492 - accuracy: 0.6306 - val_loss: 0.9478 - val_accuracy: 0.6757 - lr: 8.1873e-04\n",
      "Epoch 4/30\n",
      "1563/1563 [==============================] - 9s 6ms/step - loss: 0.9749 - accuracy: 0.6584 - val_loss: 0.9085 - val_accuracy: 0.6853 - lr: 7.4082e-04\n",
      "Epoch 5/30\n",
      "1563/1563 [==============================] - 46s 29ms/step - loss: 0.9191 - accuracy: 0.6806 - val_loss: 0.8507 - val_accuracy: 0.7014 - lr: 6.7032e-04\n",
      "Epoch 6/30\n",
      "1563/1563 [==============================] - 65s 41ms/step - loss: 0.8702 - accuracy: 0.6981 - val_loss: 0.8090 - val_accuracy: 0.7234 - lr: 6.0653e-04\n",
      "Epoch 7/30\n",
      "1563/1563 [==============================] - 64s 41ms/step - loss: 0.8269 - accuracy: 0.7137 - val_loss: 0.7929 - val_accuracy: 0.7285 - lr: 5.4881e-04\n",
      "Epoch 8/30\n",
      "1563/1563 [==============================] - 47s 30ms/step - loss: 0.7908 - accuracy: 0.7262 - val_loss: 0.7413 - val_accuracy: 0.7457 - lr: 4.9659e-04\n",
      "Epoch 9/30\n",
      "1563/1563 [==============================] - 65s 41ms/step - loss: 0.7601 - accuracy: 0.7367 - val_loss: 0.7297 - val_accuracy: 0.7516 - lr: 4.4933e-04\n",
      "Epoch 10/30\n",
      "1563/1563 [==============================] - 65s 41ms/step - loss: 0.7304 - accuracy: 0.7481 - val_loss: 0.6576 - val_accuracy: 0.7804 - lr: 4.0657e-04\n",
      "Epoch 11/30\n",
      "1563/1563 [==============================] - 43s 27ms/step - loss: 0.7011 - accuracy: 0.7583 - val_loss: 0.6720 - val_accuracy: 0.7701 - lr: 3.6788e-04\n",
      "Epoch 12/30\n",
      "1563/1563 [==============================] - 13s 8ms/step - loss: 0.6780 - accuracy: 0.7681 - val_loss: 0.6366 - val_accuracy: 0.7822 - lr: 3.3287e-04\n",
      "Epoch 13/30\n",
      "1563/1563 [==============================] - 18s 11ms/step - loss: 0.6558 - accuracy: 0.7745 - val_loss: 0.6101 - val_accuracy: 0.7978 - lr: 3.0119e-04\n",
      "Epoch 14/30\n",
      "1563/1563 [==============================] - 13s 8ms/step - loss: 0.6346 - accuracy: 0.7838 - val_loss: 0.6012 - val_accuracy: 0.8008 - lr: 2.7253e-04\n",
      "Epoch 15/30\n",
      "1563/1563 [==============================] - 11s 7ms/step - loss: 0.6164 - accuracy: 0.7894 - val_loss: 0.5735 - val_accuracy: 0.8101 - lr: 2.4660e-04\n",
      "Epoch 16/30\n",
      "1563/1563 [==============================] - 12s 8ms/step - loss: 0.5984 - accuracy: 0.7963 - val_loss: 0.5560 - val_accuracy: 0.8166 - lr: 2.2313e-04\n",
      "Epoch 17/30\n",
      "1563/1563 [==============================] - 10s 6ms/step - loss: 0.5837 - accuracy: 0.8030 - val_loss: 0.5415 - val_accuracy: 0.8235 - lr: 2.0190e-04\n",
      "Epoch 18/30\n",
      "1563/1563 [==============================] - 10s 7ms/step - loss: 0.5676 - accuracy: 0.8096 - val_loss: 0.5424 - val_accuracy: 0.8219 - lr: 1.8268e-04\n",
      "Epoch 19/30\n",
      "1563/1563 [==============================] - 9s 5ms/step - loss: 0.5531 - accuracy: 0.8135 - val_loss: 0.5251 - val_accuracy: 0.8262 - lr: 1.6530e-04\n",
      "Epoch 20/30\n",
      "1563/1563 [==============================] - 19s 12ms/step - loss: 0.5414 - accuracy: 0.8188 - val_loss: 0.5024 - val_accuracy: 0.8395 - lr: 1.4957e-04\n",
      "Epoch 21/30\n",
      "1563/1563 [==============================] - 9s 6ms/step - loss: 0.5301 - accuracy: 0.8239 - val_loss: 0.5024 - val_accuracy: 0.8409 - lr: 1.3534e-04\n",
      "Epoch 22/30\n",
      "1563/1563 [==============================] - 14s 9ms/step - loss: 0.5206 - accuracy: 0.8268 - val_loss: 0.4898 - val_accuracy: 0.8450 - lr: 1.2246e-04\n",
      "Epoch 23/30\n",
      "1563/1563 [==============================] - 10s 6ms/step - loss: 0.5117 - accuracy: 0.8302 - val_loss: 0.4792 - val_accuracy: 0.8498 - lr: 1.1080e-04\n",
      "Epoch 24/30\n",
      "1563/1563 [==============================] - 25s 16ms/step - loss: 0.5029 - accuracy: 0.8346 - val_loss: 0.4785 - val_accuracy: 0.8485 - lr: 1.0026e-04\n",
      "Epoch 25/30\n",
      "1563/1563 [==============================] - 42s 27ms/step - loss: 0.4951 - accuracy: 0.8385 - val_loss: 0.4734 - val_accuracy: 0.8494 - lr: 9.0718e-05\n",
      "Epoch 26/30\n",
      "1563/1563 [==============================] - 55s 35ms/step - loss: 0.4881 - accuracy: 0.8416 - val_loss: 0.4630 - val_accuracy: 0.8545 - lr: 8.2085e-05\n",
      "Epoch 27/30\n",
      "1563/1563 [==============================] - 64s 41ms/step - loss: 0.4817 - accuracy: 0.8431 - val_loss: 0.4591 - val_accuracy: 0.8567 - lr: 7.4274e-05\n",
      "Epoch 28/30\n",
      "1563/1563 [==============================] - 14s 9ms/step - loss: 0.4762 - accuracy: 0.8456 - val_loss: 0.4571 - val_accuracy: 0.8564 - lr: 6.7206e-05\n",
      "Epoch 29/30\n",
      "1563/1563 [==============================] - 21s 13ms/step - loss: 0.4713 - accuracy: 0.8476 - val_loss: 0.4506 - val_accuracy: 0.8616 - lr: 6.0810e-05\n",
      "Epoch 30/30\n",
      "1563/1563 [==============================] - 38s 25ms/step - loss: 0.4660 - accuracy: 0.8512 - val_loss: 0.4465 - val_accuracy: 0.8607 - lr: 5.5023e-05\n"
     ]
    }
   ],
   "source": [
    "feature_shape = X_train_features[0].shape\n",
    "labels = len(y_train_labels[0])\n",
    "#dropout_rate = 0.25\n",
    "num_epoch = 30\n",
    "learning_rate = 0.001\n",
    "decay_rate = learning_rate / num_epoch\n",
    "momentum = 0.8\n",
    "\n",
    "model = cnnModel(feature_shape, labels, learning_rate)\n",
    "#model.summary()\n",
    "cnn_model = model.fit(X_train_features, y_train_labels, \n",
    "                          epochs = num_epoch, \n",
    "                          batch_size = 32, \n",
    "                          callbacks=[callback],\n",
    "                          validation_data=(X_train_val, y_train_val))"
   ]
  },
  {
   "cell_type": "code",
   "execution_count": 23,
   "id": "d28a7b79",
   "metadata": {},
   "outputs": [
    {
     "data": {
      "image/png": "[encoded data removed]",
      "text/plain": [
       "<Figure size 1080x504 with 2 Axes>"
      ]
     },
     "metadata": {
      "needs_background": "light"
     },
     "output_type": "display_data"
    }
   ],
   "source": [
    "metrics_graph(cnn_model, num_epoch)"
   ]
  },
  {
   "cell_type": "code",
   "execution_count": null,
   "id": "185dfdfd",
   "metadata": {},
   "outputs": [],
   "source": [
    "metrics_graph(cnn_model, num_epoch)"
   ]
  },
  {
   "cell_type": "code",
   "execution_count": null,
   "id": "5470a6d1",
   "metadata": {},
   "outputs": [],
   "source": []
  }
 ],
 "metadata": {
  "kernelspec": {
   "display_name": "Python 3 (ipykernel)",
   "language": "python",
   "name": "python3"
  },
  "language_info": {
   "codemirror_mode": {
    "name": "ipython",
    "version": 3
   },
   "file_extension": ".py",
   "mimetype": "text/x-python",
   "name": "python",
   "nbconvert_exporter": "python",
   "pygments_lexer": "ipython3",
   "version": "3.9.12"
  }
 },
 "nbformat": 4,
 "nbformat_minor": 5
}
