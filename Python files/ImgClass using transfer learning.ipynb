{
 "cells": [
  {
   "cell_type": "markdown",
   "id": "5983c639",
   "metadata": {},
   "source": [
    "# Import Libraries "
   ]
  },
  {
   "cell_type": "code",
   "execution_count": 42,
   "id": "d1d7d140",
   "metadata": {},
   "outputs": [],
   "source": [
    "import os\n",
    "import numpy as np\n",
    "from numpy import save\n",
    "from numpy import asarray\n",
    "from matplotlib import pyplot as plt\n",
    "%matplotlib inline\n",
    "\n",
    "import seaborn as sns\n",
    "import pickle as pkl\n",
    "import tensorflow as tf\n",
    "\n",
    "from tensorflow import keras as K\n",
    "from keras.datasets import cifar10\n",
    "from keras.utils import np_utils\n",
    "from keras.models import Model\n",
    "from keras.models import load_model\n",
    "from keras.layers import Input\n",
    "from tensorflow.keras import Sequential\n",
    "from tensorflow.keras.layers import InputLayer\n",
    "from tensorflow.keras.layers import Flatten\n",
    "from tensorflow.keras.layers import Dense \n",
    "from tensorflow.keras.layers import Conv2D\n",
    "from tensorflow.keras.layers import MaxPool2D\n",
    "from tensorflow.keras.layers import Dropout\n",
    "from tensorflow.keras.layers import BatchNormalization\n",
    "from tensorflow.keras.callbacks import ModelCheckpoint\n",
    "from tensorflow.keras.callbacks import EarlyStopping\n",
    "from tensorflow.keras.optimizers import Adam\n",
    "from tensorflow.keras.optimizers import SGD\n",
    "from tensorflow.keras.preprocessing.image import ImageDataGenerator\n",
    "from tensorflow.keras.applications import ResNet50\n",
    "from tensorflow.keras.applications import VGG16 \n",
    "from tensorflow.keras.applications import DenseNet121 \n",
    "from tensorflow.keras.applications import EfficientNetB0\n",
    "\n",
    "from sklearn.model_selection import train_test_split\n",
    "from sklearn.metrics import confusion_matrix\n",
    "\n",
    "import warnings\n",
    "warnings.filterwarnings('ignore')"
   ]
  },
  {
   "cell_type": "markdown",
   "id": "fc1f34af",
   "metadata": {},
   "source": [
    "## Functions"
   ]
  },
  {
   "cell_type": "code",
   "execution_count": 4,
   "id": "9fa20379",
   "metadata": {},
   "outputs": [],
   "source": [
    "## Load data using pickle\n",
    "def unloadPickle(file):\n",
    "    with open(file, 'rb') as f:\n",
    "        temp =  pkl.load(f, encoding='latin1')\n",
    "    return temp\n",
    "\n",
    "## Extract train and test data and reshape images to (32, 32, 3)\n",
    "def extractData(dataPath, dataStr):\n",
    "    \n",
    "    if dataStr == '\\data_batch_':\n",
    "        X_train = []\n",
    "        y_train = []\n",
    "\n",
    "        for i in range(1, 6):\n",
    "            filePath = dataPath + dataStr + str(i)\n",
    "            file = unloadPickle(filePath)\n",
    "            file['data'] = file['data'].reshape((len(file['data']), 3, 32, 32)).transpose(0, 2, 3, 1)\n",
    "            X_train.append(file['data'])\n",
    "            y_train.append(file['labels'])\n",
    "            \n",
    "        metaFile = unloadPickle(os.path.join(dataPath,'batches.meta'))\n",
    "        labelNames = metaFile['label_names']\n",
    "        \n",
    "        return X_train, y_train, labelNames\n",
    "    \n",
    "    elif dataStr == 'test_batch':    \n",
    "        \n",
    "        filePath = os.path.join(dataPath, dataStr)\n",
    "        file = unloadPickle(filePath)\n",
    "        file['data'] = file['data'].reshape((len(file['data']), 3, 32, 32)).transpose(0, 2, 3, 1)\n",
    "        X_test = file['data']\n",
    "        y_test = file['labels']\n",
    "    \n",
    "        return X_test, y_test\n",
    "\n",
    "## Display the statistics of the data and display the image based on the batch and sample image    \n",
    "def displayStats(dataPath, dataStr, batch_id, sample_id):\n",
    "    \n",
    "    X, y, labelNames = extractData(dataPath, dataStr)\n",
    "    \n",
    "    features = []\n",
    "    labels = []\n",
    "    \n",
    "    print('No. of batches : {}'.format(len(X)))\n",
    "    print('No. of samples in each batch : {}'.format(len(X[batch_id])))\n",
    "    print('Shape of each sample : {}'.format(X[batch_id - 1][sample_id].shape))\n",
    "    print('\\nStats of batch {}'.format(batch_id))\n",
    "    print('\\nCount of each label in batch {} : '.format(batch_id))\n",
    "    \n",
    "    label_counts = dict(zip(*np.unique(y[batch_id - 1], return_counts=True)))\n",
    "    \n",
    "    for key, value in label_counts.items():\n",
    "        print('No. of {} images : {}'.format((labelNames[key]).upper(), value))\n",
    "    \n",
    "    sample_label = y[batch_id - 1][sample_id]\n",
    "    print('\\nSample Id : {}, Image name : {}'.format(sample_id, (labelNames[sample_label]).upper()))\n",
    "    sample_image = X[batch_id - 1][sample_id]\n",
    "    plt.imshow(sample_image)\n",
    "\n",
    "## One hot encode the labels\n",
    "def oneHotEncode(labels):\n",
    "    \n",
    "    x = np.zeros((len(labels), 10))\n",
    "    for i, j in enumerate(labels):\n",
    "        x[i][j] = 1\n",
    "    \n",
    "    return x\n",
    "\n",
    "## Dump the train or test data in pickle files\n",
    "def saveData(batch_features, batch_labels, filename):\n",
    "    \n",
    "    pkl.dump((batch_features, batch_labels), open(filename, 'wb'))\n",
    "    \n",
    "def schedulerLr(epoch, lr):\n",
    "    if epoch < lr:\n",
    "        return lr\n",
    "    else:\n",
    "        return lr * tf.math.exp(-0.1)\n",
    "\n",
    "## Display Train vs Validation loss and accuracy graphs    \n",
    "def metrics_graph(model, num_epoch):\n",
    "    \n",
    "    r_ep = range(num_epoch)\n",
    "    train_loss = model.history['loss']\n",
    "    validation_loss = model.history['val_loss']\n",
    "    train_acuracy = model.history['accuracy']\n",
    "    validation_accuracy = model.history['val_accuracy']\n",
    "\n",
    "    plt.figure(figsize=(15,7))\n",
    "    \n",
    "    plt.subplot(1, 2, 1)\n",
    "    plt.title('Train vs Validation')\n",
    "    plt.plot(r_ep, train_loss)\n",
    "    plt.plot(r_ep, validation_loss)\n",
    "    plt.legend(['train_loss', 'val_loss'])\n",
    "    plt.xlabel('No. of epochs')\n",
    "    plt.ylabel('Loss')\n",
    "    \n",
    "    plt.subplot(1, 2, 2)\n",
    "    plt.title('Train Accuracy vs Validation Accuracy')\n",
    "    plt.plot(r_ep, train_acuracy)\n",
    "    plt.plot(r_ep, validation_accuracy)\n",
    "    plt.legend(['train_acc', 'val_acc'])\n",
    "    plt.xlabel('No. of epochs')\n",
    "    plt.ylabel('Accuracy')"
   ]
  },
  {
   "cell_type": "markdown",
   "id": "83468bc7",
   "metadata": {},
   "source": [
    "# Load Dataset "
   ]
  },
  {
   "cell_type": "code",
   "execution_count": 2,
   "id": "c58ef0cd",
   "metadata": {},
   "outputs": [],
   "source": [
    "os.chdir(\"../..\")\n",
    "dataPath = os.path.join(os.getcwd(), 'ImageClassification\\\\archive\\cifar-10-batches-py')"
   ]
  },
  {
   "cell_type": "code",
   "execution_count": 5,
   "id": "363edfa0",
   "metadata": {},
   "outputs": [
    {
     "name": "stdout",
     "output_type": "stream",
     "text": [
      "No. of batches : 5\n",
      "No. of samples in each batch : 10000\n",
      "Shape of each sample : (32, 32, 3)\n",
      "\n",
      "Stats of batch 1\n",
      "\n",
      "Count of each label in batch 1 : \n",
      "No. of AIRPLANE images : 1005\n",
      "No. of AUTOMOBILE images : 974\n",
      "No. of BIRD images : 1032\n",
      "No. of CAT images : 1016\n",
      "No. of DEER images : 999\n",
      "No. of DOG images : 937\n",
      "No. of FROG images : 1030\n",
      "No. of HORSE images : 1001\n",
      "No. of SHIP images : 1025\n",
      "No. of TRUCK images : 981\n",
      "\n",
      "Sample Id : 123, Image name : BIRD\n"
     ]
    },
    {
     "data": {
      "image/png": "[encoded data removed]",
      "text/plain": [
       "<Figure size 432x288 with 1 Axes>"
      ]
     },
     "metadata": {
      "needs_background": "light"
     },
     "output_type": "display_data"
    }
   ],
   "source": [
    "trainStr = '\\data_batch_'\n",
    "testStr = 'test_batch'\n",
    "\n",
    "displayStats(dataPath, trainStr, 1, 123)"
   ]
  },
  {
   "cell_type": "code",
   "execution_count": 5,
   "id": "489aa745",
   "metadata": {},
   "outputs": [],
   "source": [
    "feat, lbl, labelNames = extractData(dataPath, \n",
    "                                    trainStr)"
   ]
  },
  {
   "cell_type": "markdown",
   "id": "0c36e453",
   "metadata": {},
   "source": [
    "# Pre-processing"
   ]
  },
  {
   "cell_type": "code",
   "execution_count": 16,
   "id": "810ec85c",
   "metadata": {},
   "outputs": [],
   "source": [
    "batch_ids = [1, 2, 3, 4, 5]\n",
    "train_feat, train_lbl = [], []\n",
    "for b_id in batch_ids:\n",
    "    temp_batch = []\n",
    "    for idx, img in enumerate(feat[i-1]):\n",
    "        temp_batch.append(feat[b_id-1][idx] / 255.0)\n",
    "    train_feat.append(asarray(temp_batch)) \n",
    "    train_lbl.append(oneHotEncode(lbl[b_id-1]))\n",
    "    \n",
    "    saveData(train_feat[b_id-1], \n",
    "             train_lbl[b_id-1], \n",
    "             os.path.join(dataPath, \n",
    "                          'prcsd_batch_' + str(b_id) + '.pkl'))"
   ]
  },
  {
   "cell_type": "code",
   "execution_count": 7,
   "id": "80a85da9",
   "metadata": {},
   "outputs": [],
   "source": [
    "X, y = extractData(dataPath, testStr)\n",
    "X_test, y_test = [], []\n",
    "for idx, img in enumerate(X):\n",
    "    X[idx] = X[idx].astype('float32')\n",
    "    X_test.append(X[idx] / 255.0)\n",
    "\n",
    "X_test = asarray(X_test)    \n",
    "y_test = oneHotEncode(y)\n",
    "saveData(X_test, \n",
    "         y_test, \n",
    "         os.path.join(dataPath, \n",
    "                      'prcsd_test_batch.pkl'))"
   ]
  },
  {
   "cell_type": "markdown",
   "id": "5a339865",
   "metadata": {},
   "source": [
    "# Model Generation"
   ]
  },
  {
   "cell_type": "markdown",
   "id": "d57ffea2",
   "metadata": {},
   "source": [
    "### Loading saved processed data "
   ]
  },
  {
   "cell_type": "code",
   "execution_count": 8,
   "id": "5f709c42",
   "metadata": {},
   "outputs": [],
   "source": [
    "train_features = []\n",
    "train_labels = []\n",
    "batch_ids = [1, 2, 3, 4, 5]\n",
    "for b_id in batch_ids:\n",
    "    path = os.path.join(dataPath, 'prcsd_batch_' + str(b_id) + '.pkl')\n",
    "    temp_batch = unloadPickle(path)\n",
    "    train_features.append(temp_batch[0]) \n",
    "    train_labels.append(temp_batch[1])"
   ]
  },
  {
   "cell_type": "code",
   "execution_count": 9,
   "id": "057e6c35",
   "metadata": {},
   "outputs": [],
   "source": [
    "X_train_features, y_train_labels = np.concatenate(train_features, \n",
    "                                                  axis = 0), np.concatenate(train_labels, \n",
    "                                                                            axis = 0)"
   ]
  },
  {
   "cell_type": "code",
   "execution_count": 10,
   "id": "6a5751b9",
   "metadata": {},
   "outputs": [],
   "source": [
    "test_path = os.path.join(dataPath, 'prcsd_test_batch.pkl')\n",
    "X_test, y_test = unloadPickle(test_path)"
   ]
  },
  {
   "cell_type": "code",
   "execution_count": 15,
   "id": "e773a345",
   "metadata": {},
   "outputs": [],
   "source": [
    "X_train, X_train_val, y_train, y_train_val = train_test_split(X_train_features, \n",
    "                                                                  y_train_labels, \n",
    "                                                                  test_size=0.2, \n",
    "                                                                  random_state=42)"
   ]
  },
  {
   "cell_type": "markdown",
   "id": "0580b41c",
   "metadata": {},
   "source": [
    "### Resize the images to associate with the pre-trained models  "
   ]
  },
  {
   "cell_type": "code",
   "execution_count": 38,
   "id": "b5b4debe",
   "metadata": {},
   "outputs": [],
   "source": [
    "imgRows = 224\n",
    "imgCols = 224\n",
    "\n",
    "## Input tensor\n",
    "inputs = Input(shape=(X_train_features[0].shape))\n",
    "\n",
    "## Resize the image to dimensions 224 x 224\n",
    "# upscale = K.layers.Lambda(lambda x: tf.image.resize_with_pad(x, \n",
    "#                                                              imgRows, \n",
    "#                                                              imgCols, \n",
    "#                                                              method=tf.image.ResizeMethod.BILINEAR))(inputs)"
   ]
  },
  {
   "cell_type": "markdown",
   "id": "40f5f6cc",
   "metadata": {},
   "source": [
    "### VGG16 "
   ]
  },
  {
   "cell_type": "code",
   "execution_count": 59,
   "id": "6077120a",
   "metadata": {},
   "outputs": [],
   "source": [
    "def model_CustomVGG16(inputImg):\n",
    "    \n",
    "    model = VGG16(include_top=False, \n",
    "                  weights='imagenet', \n",
    "                  input_tensor=inputs, \n",
    "                  input_shape=(X_train_features[0].shape))\n",
    "    \n",
    "    for layer in model.layers[:15]:\n",
    "        layer.trainable = False\n",
    "    \n",
    "    return model.output\n",
    "    \n",
    "def last_Layer(input_layer, \n",
    "               dropout_rate, \n",
    "               labels):\n",
    "    \n",
    "    flatten = Flatten()(input_layer)\n",
    "    dense_layer1 = Dense(512, activation='relu')(flatten)\n",
    "    batchNorm_layer1 = BatchNormalization()(dense_layer1)\n",
    "    #dropout_layer1 = Dropout(dropout_rate)(batchNorm_layer1)\n",
    "    \n",
    "    dense_layer2 = Dense(256, activation='relu')(batchNorm_layer1)\n",
    "    batchNorm_layer2 = BatchNormalization()(dense_layer2)\n",
    "    #dropout_layer2 = Dropout(dropout_rate)(batchNorm_layer2)\n",
    "    \n",
    "    dense_layer3 = Dense(128, activation='relu')(batchNorm_layer2)\n",
    "    batchNorm_layer3 = BatchNormalization()(dense_layer3)\n",
    "    #dropout_layer3 = Dropout(dropout_rate)(batchNorm_layer3)\n",
    "    \n",
    "    dense_layer4 = Dense(64, activation='relu')(batchNorm_layer3)\n",
    "    batchNorm_layer4 = BatchNormalization()(dense_layer4)\n",
    "    #dropout_layer4 = Dropout(dropout_rate)(batchNorm_layer4)\n",
    "    \n",
    "    final_layer = Dense(labels, activation='softmax')(batchNorm_layer4)\n",
    "    \n",
    "    return final_layer"
   ]
  },
  {
   "cell_type": "code",
   "execution_count": 62,
   "id": "952b43ca",
   "metadata": {},
   "outputs": [],
   "source": [
    "callback = tf.keras.callbacks.LearningRateScheduler(schedulerLr)"
   ]
  },
  {
   "cell_type": "code",
   "execution_count": 63,
   "id": "f2f983d4",
   "metadata": {},
   "outputs": [
    {
     "name": "stdout",
     "output_type": "stream",
     "text": [
      "Epoch 1/20\n",
      "313/313 [==============================] - ETA: 0s - loss: 1.1563 - accuracy: 0.5992\n",
      "Epoch 1: saving model to D:\\Competetions\\Kaggle\\ImageClassification\\archive\\cifar-10-batches-py\\VGG16_Model.h5\n",
      "313/313 [==============================] - 125s 396ms/step - loss: 1.1563 - accuracy: 0.5992 - val_loss: 3.4056 - val_accuracy: 0.3197 - lr: 0.0010\n",
      "Epoch 2/20\n",
      "313/313 [==============================] - ETA: 0s - loss: 0.8536 - accuracy: 0.7052\n",
      "Epoch 2: saving model to D:\\Competetions\\Kaggle\\ImageClassification\\archive\\cifar-10-batches-py\\VGG16_Model.h5\n",
      "313/313 [==============================] - 123s 394ms/step - loss: 0.8536 - accuracy: 0.7052 - val_loss: 1.0675 - val_accuracy: 0.6471 - lr: 9.0484e-04\n",
      "Epoch 3/20\n",
      "313/313 [==============================] - ETA: 0s - loss: 0.7542 - accuracy: 0.7377\n",
      "Epoch 3: saving model to D:\\Competetions\\Kaggle\\ImageClassification\\archive\\cifar-10-batches-py\\VGG16_Model.h5\n",
      "313/313 [==============================] - 124s 397ms/step - loss: 0.7542 - accuracy: 0.7377 - val_loss: 0.9712 - val_accuracy: 0.6802 - lr: 8.1873e-04\n",
      "Epoch 4/20\n",
      "313/313 [==============================] - ETA: 0s - loss: 0.6734 - accuracy: 0.7653\n",
      "Epoch 4: saving model to D:\\Competetions\\Kaggle\\ImageClassification\\archive\\cifar-10-batches-py\\VGG16_Model.h5\n",
      "313/313 [==============================] - 124s 396ms/step - loss: 0.6734 - accuracy: 0.7653 - val_loss: 0.9419 - val_accuracy: 0.6854 - lr: 7.4082e-04\n",
      "Epoch 5/20\n",
      "313/313 [==============================] - ETA: 0s - loss: 0.6100 - accuracy: 0.7865\n",
      "Epoch 5: saving model to D:\\Competetions\\Kaggle\\ImageClassification\\archive\\cifar-10-batches-py\\VGG16_Model.h5\n",
      "313/313 [==============================] - 123s 394ms/step - loss: 0.6100 - accuracy: 0.7865 - val_loss: 1.2894 - val_accuracy: 0.5996 - lr: 6.7032e-04\n",
      "Epoch 6/20\n",
      "313/313 [==============================] - ETA: 0s - loss: 0.5445 - accuracy: 0.8090\n",
      "Epoch 6: saving model to D:\\Competetions\\Kaggle\\ImageClassification\\archive\\cifar-10-batches-py\\VGG16_Model.h5\n",
      "313/313 [==============================] - 123s 395ms/step - loss: 0.5445 - accuracy: 0.8090 - val_loss: 0.8184 - val_accuracy: 0.7272 - lr: 6.0653e-04\n",
      "Epoch 7/20\n",
      "313/313 [==============================] - ETA: 0s - loss: 0.4727 - accuracy: 0.8360\n",
      "Epoch 7: saving model to D:\\Competetions\\Kaggle\\ImageClassification\\archive\\cifar-10-batches-py\\VGG16_Model.h5\n",
      "313/313 [==============================] - 122s 390ms/step - loss: 0.4727 - accuracy: 0.8360 - val_loss: 0.9428 - val_accuracy: 0.7010 - lr: 5.4881e-04\n",
      "Epoch 8/20\n",
      "313/313 [==============================] - ETA: 0s - loss: 0.4094 - accuracy: 0.8588\n",
      "Epoch 8: saving model to D:\\Competetions\\Kaggle\\ImageClassification\\archive\\cifar-10-batches-py\\VGG16_Model.h5\n",
      "313/313 [==============================] - 121s 387ms/step - loss: 0.4094 - accuracy: 0.8588 - val_loss: 0.8842 - val_accuracy: 0.7171 - lr: 4.9659e-04\n",
      "Epoch 9/20\n",
      "313/313 [==============================] - ETA: 0s - loss: 0.3430 - accuracy: 0.8814\n",
      "Epoch 9: saving model to D:\\Competetions\\Kaggle\\ImageClassification\\archive\\cifar-10-batches-py\\VGG16_Model.h5\n",
      "313/313 [==============================] - 121s 387ms/step - loss: 0.3430 - accuracy: 0.8814 - val_loss: 0.9451 - val_accuracy: 0.7184 - lr: 4.4933e-04\n",
      "Epoch 10/20\n",
      "313/313 [==============================] - ETA: 0s - loss: 0.2764 - accuracy: 0.9055\n",
      "Epoch 10: saving model to D:\\Competetions\\Kaggle\\ImageClassification\\archive\\cifar-10-batches-py\\VGG16_Model.h5\n",
      "313/313 [==============================] - 122s 391ms/step - loss: 0.2764 - accuracy: 0.9055 - val_loss: 0.9968 - val_accuracy: 0.7228 - lr: 4.0657e-04\n",
      "Epoch 11/20\n",
      "313/313 [==============================] - ETA: 0s - loss: 0.2141 - accuracy: 0.9278\n",
      "Epoch 11: saving model to D:\\Competetions\\Kaggle\\ImageClassification\\archive\\cifar-10-batches-py\\VGG16_Model.h5\n",
      "313/313 [==============================] - 121s 386ms/step - loss: 0.2141 - accuracy: 0.9278 - val_loss: 0.9478 - val_accuracy: 0.7407 - lr: 3.6788e-04\n",
      "Epoch 12/20\n",
      "313/313 [==============================] - ETA: 0s - loss: 0.1660 - accuracy: 0.9455\n",
      "Epoch 12: saving model to D:\\Competetions\\Kaggle\\ImageClassification\\archive\\cifar-10-batches-py\\VGG16_Model.h5\n",
      "313/313 [==============================] - 124s 398ms/step - loss: 0.1660 - accuracy: 0.9455 - val_loss: 0.9812 - val_accuracy: 0.7497 - lr: 3.3287e-04\n",
      "Epoch 13/20\n",
      "313/313 [==============================] - ETA: 0s - loss: 0.1177 - accuracy: 0.9625\n",
      "Epoch 13: saving model to D:\\Competetions\\Kaggle\\ImageClassification\\archive\\cifar-10-batches-py\\VGG16_Model.h5\n",
      "313/313 [==============================] - 121s 388ms/step - loss: 0.1177 - accuracy: 0.9625 - val_loss: 1.0818 - val_accuracy: 0.7501 - lr: 3.0119e-04\n",
      "Epoch 14/20\n",
      "313/313 [==============================] - ETA: 0s - loss: 0.0862 - accuracy: 0.9725\n",
      "Epoch 14: saving model to D:\\Competetions\\Kaggle\\ImageClassification\\archive\\cifar-10-batches-py\\VGG16_Model.h5\n",
      "313/313 [==============================] - 124s 396ms/step - loss: 0.0862 - accuracy: 0.9725 - val_loss: 1.1617 - val_accuracy: 0.7452 - lr: 2.7253e-04\n",
      "Epoch 15/20\n",
      "313/313 [==============================] - ETA: 0s - loss: 0.0636 - accuracy: 0.9801\n",
      "Epoch 15: saving model to D:\\Competetions\\Kaggle\\ImageClassification\\archive\\cifar-10-batches-py\\VGG16_Model.h5\n",
      "313/313 [==============================] - 123s 393ms/step - loss: 0.0636 - accuracy: 0.9801 - val_loss: 1.2010 - val_accuracy: 0.7452 - lr: 2.4660e-04\n",
      "Epoch 16/20\n",
      "313/313 [==============================] - ETA: 0s - loss: 0.0482 - accuracy: 0.9851\n",
      "Epoch 16: saving model to D:\\Competetions\\Kaggle\\ImageClassification\\archive\\cifar-10-batches-py\\VGG16_Model.h5\n",
      "313/313 [==============================] - 121s 388ms/step - loss: 0.0482 - accuracy: 0.9851 - val_loss: 1.2243 - val_accuracy: 0.7546 - lr: 2.2313e-04\n",
      "Epoch 17/20\n",
      "313/313 [==============================] - ETA: 0s - loss: 0.0336 - accuracy: 0.9902\n",
      "Epoch 17: saving model to D:\\Competetions\\Kaggle\\ImageClassification\\archive\\cifar-10-batches-py\\VGG16_Model.h5\n",
      "313/313 [==============================] - 121s 388ms/step - loss: 0.0336 - accuracy: 0.9902 - val_loss: 1.2918 - val_accuracy: 0.7536 - lr: 2.0190e-04\n",
      "Epoch 18/20\n",
      "313/313 [==============================] - ETA: 0s - loss: 0.0244 - accuracy: 0.9926\n",
      "Epoch 18: saving model to D:\\Competetions\\Kaggle\\ImageClassification\\archive\\cifar-10-batches-py\\VGG16_Model.h5\n",
      "313/313 [==============================] - 122s 389ms/step - loss: 0.0244 - accuracy: 0.9926 - val_loss: 1.3396 - val_accuracy: 0.7556 - lr: 1.8268e-04\n",
      "Epoch 19/20\n",
      "313/313 [==============================] - ETA: 0s - loss: 0.0189 - accuracy: 0.9947\n",
      "Epoch 19: saving model to D:\\Competetions\\Kaggle\\ImageClassification\\archive\\cifar-10-batches-py\\VGG16_Model.h5\n",
      "313/313 [==============================] - 122s 390ms/step - loss: 0.0189 - accuracy: 0.9947 - val_loss: 1.3892 - val_accuracy: 0.7497 - lr: 1.6530e-04\n",
      "Epoch 20/20\n",
      "313/313 [==============================] - ETA: 0s - loss: 0.0144 - accuracy: 0.9962\n",
      "Epoch 20: saving model to D:\\Competetions\\Kaggle\\ImageClassification\\archive\\cifar-10-batches-py\\VGG16_Model.h5\n",
      "313/313 [==============================] - 123s 394ms/step - loss: 0.0144 - accuracy: 0.9962 - val_loss: 1.4497 - val_accuracy: 0.7569 - lr: 1.4957e-04\n"
     ]
    }
   ],
   "source": [
    "learning_rate = 0.001\n",
    "dropout_rate = 0.2\n",
    "num_epoch = 20\n",
    "labels = len(y_train[0])\n",
    "batch_size = 128\n",
    "\n",
    "vgg16_output = model_CustomVGG16(inputs)\n",
    "final = last_Layer(vgg16_output, \n",
    "                   dropout_rate, \n",
    "                   labels)\n",
    "model = Model([inputs], \n",
    "              final)\n",
    "\n",
    "opt = Adam(learning_rate)\n",
    "model.compile(optimizer=opt, \n",
    "              loss='categorical_crossentropy', \n",
    "              metrics=['accuracy'])\n",
    "\n",
    "model_checkpoint = ModelCheckpoint(os.path.join(dataPath, \n",
    "                                                'VGG16_Model.h5'), \n",
    "                                   monitor='val_loss', \n",
    "                                   verbose=1, \n",
    "                                   save_only_best=True)\n",
    "# early_stopping = EarlyStopping(monitor='val_accuracy', \n",
    "#                                verbose=1, \n",
    "#                                patience=5)\n",
    "\n",
    "vgg16_model = model.fit(X_train, \n",
    "                        y_train, \n",
    "                        batch_size,\n",
    "                        num_epoch,\n",
    "                        callbacks=[model_checkpoint, \n",
    "                                   callback], \n",
    "                        validation_data=(X_train_val, \n",
    "                                         y_train_val))"
   ]
  },
  {
   "cell_type": "code",
   "execution_count": 65,
   "id": "dd69103a",
   "metadata": {},
   "outputs": [
    {
     "data": {
      "image/png": "[encoded data removed]",
      "text/plain": [
       "<Figure size 1080x504 with 2 Axes>"
      ]
     },
     "metadata": {
      "needs_background": "light"
     },
     "output_type": "display_data"
    }
   ],
   "source": [
    "metrics_graph(vgg16_model, num_epoch)"
   ]
  },
  {
   "cell_type": "code",
   "execution_count": null,
   "id": "76356be3",
   "metadata": {},
   "outputs": [],
   "source": []
  }
 ],
 "metadata": {
  "kernelspec": {
   "display_name": "Python 3 (ipykernel)",
   "language": "python",
   "name": "python3"
  },
  "language_info": {
   "codemirror_mode": {
    "name": "ipython",
    "version": 3
   },
   "file_extension": ".py",
   "mimetype": "text/x-python",
   "name": "python",
   "nbconvert_exporter": "python",
   "pygments_lexer": "ipython3",
   "version": "3.9.12"
  }
 },
 "nbformat": 4,
 "nbformat_minor": 5
}
